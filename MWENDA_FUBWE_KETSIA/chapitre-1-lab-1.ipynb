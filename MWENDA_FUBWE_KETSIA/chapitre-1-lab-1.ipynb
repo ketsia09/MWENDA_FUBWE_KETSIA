{
 "cells": [
  {
   "cell_type": "markdown",
   "id": "18b5578e-f6f1-4a09-9f57-736ff9b4e05f",
   "metadata": {},
   "source": [
    "# A.IMPORTATION DE LIBRAIRIES"
   ]
  },
  {
   "cell_type": "code",
   "execution_count": 104,
   "id": "eeeb359d-4c23-4bb8-b4e6-a11dd7c212fe",
   "metadata": {},
   "outputs": [],
   "source": [
    "# importation de librairies "
   ]
  },
  {
   "cell_type": "code",
   "execution_count": 105,
   "id": "d8c346dd-0c30-40c8-9081-086ced27bdee",
   "metadata": {},
   "outputs": [],
   "source": [
    "import numpy as np"
   ]
  },
  {
   "cell_type": "markdown",
   "id": "31fd2490-7903-40ef-a1ff-f3b680f43835",
   "metadata": {},
   "source": [
    "## 1.Tableau"
   ]
  },
  {
   "cell_type": "markdown",
   "id": "8fa7adf1-33c6-4a97-b5ed-c406bb7faf91",
   "metadata": {},
   "source": [
    "## 1.1 Tableau a 1D"
   ]
  },
  {
   "cell_type": "code",
   "execution_count": 106,
   "id": "de6984ed-4554-4a16-9bf7-22047154d698",
   "metadata": {},
   "outputs": [
    {
     "name": "stdout",
     "output_type": "stream",
     "text": [
      "dimensions du tableau (5,)\n",
      "type du tableau <class 'numpy.ndarray'>\n",
      "voici le tableau [1 3 5 7 8]\n"
     ]
    }
   ],
   "source": [
    "# creation d'un tableau a 1D\n",
    "tab_1D =np.array([1,3,5,7,8])\n",
    "\n",
    "print(\"dimensions du tableau\", tab_1D.shape)\n",
    "print(\"type du tableau\", type(tab_1D))\n",
    "print(\"voici le tableau\",tab_1D)\n"
   ]
  },
  {
   "cell_type": "markdown",
   "id": "22763860-e214-49ed-9184-b5fb4d8baaa1",
   "metadata": {},
   "source": [
    "## 1.2 Tableau a 2D"
   ]
  },
  {
   "cell_type": "code",
   "execution_count": 107,
   "id": "c3e9efbb-5274-4c3f-813f-2cb63780b6d9",
   "metadata": {},
   "outputs": [
    {
     "name": "stdout",
     "output_type": "stream",
     "text": [
      "Dimension du tableau (1, 5)\n",
      "type du tableau <class 'numpy.ndarray'>\n",
      "voici le tableau: [[1 3 5 7 8]]\n"
     ]
    }
   ],
   "source": [
    "# creation d'un tableau a 2D\n",
    "tab_2D =np.array([[1,3,5,7,8]])\n",
    "\n",
    "print(\"Dimension du tableau\", tab_2D.shape)\n",
    "print(\"type du tableau\", type(tab_2D))\n",
    "print(\"voici le tableau:\", tab_2D)"
   ]
  },
  {
   "cell_type": "markdown",
   "id": "b16f4444-a32b-46b0-b524-f05bb55107a6",
   "metadata": {},
   "source": [
    "## 1.3 Tableau a 3D"
   ]
  },
  {
   "cell_type": "code",
   "execution_count": 108,
   "id": "1bf3759a-e51d-4d55-bf7f-3af114a1b682",
   "metadata": {},
   "outputs": [
    {
     "name": "stdout",
     "output_type": "stream",
     "text": [
      "dimension du tableau (1, 4, 6)\n",
      "type du tableau <class 'numpy.ndarray'>\n",
      "[[[  11    9    7    5    3    1]\n",
      "  [ 110   90   70   50   30   10]\n",
      "  [ 115   95   75   35   55   15]\n",
      "  [1100  900  700  500  300  100]]]\n"
     ]
    }
   ],
   "source": [
    "#creation d'un tableau a 3D \n",
    "tab_3D =np.array([[\n",
    "    [11,9,7,5,3,1],\n",
    "    [110,90,70,50,30,10],\n",
    "    [115,95,75,35,55,15],\n",
    "    [1100,900,700,500,300,100]\n",
    "]])\n",
    " \n",
    "print(\"dimension du tableau\",tab_3D.shape)\n",
    "print(\"type du tableau\",type(tab_3D))\n",
    "print(tab_3D)   "
   ]
  },
  {
   "cell_type": "code",
   "execution_count": null,
   "id": "cf5cb95d-a324-45cf-b25f-889b6a77ac18",
   "metadata": {},
   "outputs": [],
   "source": []
  },
  {
   "cell_type": "markdown",
   "id": "bea65264-15f3-4bc7-abcd-54ed4b3b2a3f",
   "metadata": {},
   "source": [
    "## 1.4 Tableau a 4D"
   ]
  },
  {
   "cell_type": "code",
   "execution_count": 109,
   "id": "7c68ac56-a4a4-4be8-9677-1ad7fff6234a",
   "metadata": {},
   "outputs": [
    {
     "name": "stdout",
     "output_type": "stream",
     "text": [
      "dimension du tableau (1, 1, 1, 2)\n",
      "type du tableau <class 'numpy.ndarray'>\n",
      "[[[[2 4]]]]\n"
     ]
    }
   ],
   "source": [
    "# creation d'un tableau a 4D\n",
    "tab_4D = np.array([[[[2,4]]]])\n",
    "\n",
    "print(\"dimension du tableau\",tab_4D.shape)\n",
    "print(\"type du tableau\",type(tab_4D))\n",
    "print(tab_4D)"
   ]
  },
  {
   "cell_type": "markdown",
   "id": "ce61f2f5-29e7-42b3-af4c-fdfb0546daa9",
   "metadata": {},
   "source": [
    "# B.OPERATIONS"
   ]
  },
  {
   "cell_type": "code",
   "execution_count": 110,
   "id": "5e87445f-35f2-4457-9dbc-6a0aa76676c3",
   "metadata": {},
   "outputs": [],
   "source": [
    "a = np.array([ \n",
    "    [2,4,6,8],\n",
    "    [25,45,65,85],\n",
    "])\n",
    "b= np.array([\n",
    "    [20,40,60,80],\n",
    "    [250,450,650,850],\n",
    "])\n"
   ]
  },
  {
   "cell_type": "code",
   "execution_count": 111,
   "id": "9bbca19c-1489-433e-85e6-ab2b66b55fea",
   "metadata": {},
   "outputs": [
    {
     "name": "stdout",
     "output_type": "stream",
     "text": [
      "(2, 4)\n",
      "[[ 2  4  6  8]\n",
      " [25 45 65 85]]\n",
      "(2, 4)\n",
      "[[ 20  40  60  80]\n",
      " [250 450 650 850]]\n"
     ]
    }
   ],
   "source": [
    "print(a.shape)\n",
    "print(a)\n",
    "print(b.shape)\n",
    "print(b)\n",
    "         "
   ]
  },
  {
   "cell_type": "code",
   "execution_count": 112,
   "id": "832a04c4-6727-4747-87ec-cb1e83173d11",
   "metadata": {},
   "outputs": [
    {
     "name": "stdout",
     "output_type": "stream",
     "text": [
      "[[ 22  44  66  88]\n",
      " [275 495 715 935]]\n"
     ]
    }
   ],
   "source": [
    "# addition\n",
    "print(a+b)"
   ]
  },
  {
   "cell_type": "code",
   "execution_count": 113,
   "id": "21bdd72e-8f14-4ff3-9f94-3b3d9b41205b",
   "metadata": {},
   "outputs": [
    {
     "name": "stdout",
     "output_type": "stream",
     "text": [
      "[[ -18  -36  -54  -72]\n",
      " [-225 -405 -585 -765]]\n"
     ]
    }
   ],
   "source": [
    "# soustractin\n",
    "print(a-b)"
   ]
  },
  {
   "cell_type": "code",
   "execution_count": 114,
   "id": "7f345624-596b-4666-ab56-a0e6b95249e1",
   "metadata": {},
   "outputs": [
    {
     "name": "stdout",
     "output_type": "stream",
     "text": [
      "[[ 18  36  54  72]\n",
      " [225 405 585 765]]\n"
     ]
    }
   ],
   "source": [
    "print(b-a)"
   ]
  },
  {
   "cell_type": "code",
   "execution_count": 115,
   "id": "017f0b71-99a1-4c54-97b0-ce22a38e7c7e",
   "metadata": {},
   "outputs": [
    {
     "name": "stdout",
     "output_type": "stream",
     "text": [
      "[[   40   160   360   640]\n",
      " [ 6250 20250 42250 72250]]\n"
     ]
    }
   ],
   "source": [
    "# multipblication\n",
    "print(a*b)"
   ]
  },
  {
   "cell_type": "code",
   "execution_count": 116,
   "id": "dc84a1e0-b4fa-46e9-a554-5a07db476240",
   "metadata": {},
   "outputs": [
    {
     "name": "stdout",
     "output_type": "stream",
     "text": [
      "[[0.1 0.1 0.1 0.1]\n",
      " [0.1 0.1 0.1 0.1]]\n"
     ]
    }
   ],
   "source": [
    "# division\n",
    "print(a/b)"
   ]
  },
  {
   "cell_type": "markdown",
   "id": "1ac3c4d2-30da-4929-9b60-e07359581b20",
   "metadata": {},
   "source": [
    "# C. MANIPULATION"
   ]
  },
  {
   "cell_type": "code",
   "execution_count": 117,
   "id": "9aaba6b3-0607-4e57-99bd-706b05abecfb",
   "metadata": {},
   "outputs": [],
   "source": [
    "# creation d'un dictionnaire\n",
    "Info_Etudiants = {\n",
    "    'matricule':'20221235543',\n",
    "    'nom':'kasongo',\n",
    "    'prenom':'david',\n",
    "    'age':23,\n",
    "    'GPA':'A'\n",
    "}"
   ]
  },
  {
   "cell_type": "code",
   "execution_count": 118,
   "id": "7659f3fa-81a8-4a9a-82c0-851ea739ec7b",
   "metadata": {},
   "outputs": [
    {
     "data": {
      "text/plain": [
       "{'matricule': '20221235543',\n",
       " 'nom': 'kasongo',\n",
       " 'prenom': 'david',\n",
       " 'age': 23,\n",
       " 'GPA': 'A'}"
      ]
     },
     "execution_count": 118,
     "metadata": {},
     "output_type": "execute_result"
    }
   ],
   "source": [
    "Info_Etudiants"
   ]
  },
  {
   "cell_type": "code",
   "execution_count": 119,
   "id": "567a1ab1-18a1-4240-9c60-64d0af2a6133",
   "metadata": {},
   "outputs": [
    {
     "name": "stdout",
     "output_type": "stream",
     "text": [
      "{'matricule': '20221235543', 'nom': 'kasongo', 'prenom': 'david', 'age': 23, 'GPA': 'A'}\n"
     ]
    }
   ],
   "source": [
    "print(Info_Etudiants)"
   ]
  },
  {
   "cell_type": "code",
   "execution_count": 120,
   "id": "77f8e16e-0d9a-4ba8-b2ad-fded825df5cd",
   "metadata": {},
   "outputs": [],
   "source": [
    "Info_tous_les_etudiants_BAC_GL_IA = {\n",
    "    'matricule':['20220908123','202212654','2022876123','2022987111','2022020111','2022021536','2022202548','202445884','20022225','220225545',],\n",
    "    'nom':['SAMPATWA','KATUMBA','KIMENYEMBO','KALOMBO','KALOBO','MUJINGA','KALENGA','MWENDA','HANGI','KASONGO'],\n",
    "    'prenom':['Diev','Manasse','ketsia','Charly','Justin','patrick','lina','mazal','juliana','luna'],\n",
    "    'age':[25,22,12,26,18,22,23,25,18,14],\n",
    "    'GPA':['A','B','A','C','B','A','A','A','B','B'],\n",
    "}"
   ]
  },
  {
   "cell_type": "code",
   "execution_count": 121,
   "id": "3936f557-1a71-4675-925f-03517cebe15e",
   "metadata": {},
   "outputs": [
    {
     "data": {
      "text/plain": [
       "{'matricule': ['20220908123',\n",
       "  '202212654',\n",
       "  '2022876123',\n",
       "  '2022987111',\n",
       "  '2022020111',\n",
       "  '2022021536',\n",
       "  '2022202548',\n",
       "  '202445884',\n",
       "  '20022225',\n",
       "  '220225545'],\n",
       " 'nom': ['SAMPATWA',\n",
       "  'KATUMBA',\n",
       "  'KIMENYEMBO',\n",
       "  'KALOMBO',\n",
       "  'KALOBO',\n",
       "  'MUJINGA',\n",
       "  'KALENGA',\n",
       "  'MWENDA',\n",
       "  'HANGI',\n",
       "  'KASONGO'],\n",
       " 'prenom': ['Diev',\n",
       "  'Manasse',\n",
       "  'ketsia',\n",
       "  'Charly',\n",
       "  'Justin',\n",
       "  'patrick',\n",
       "  'lina',\n",
       "  'mazal',\n",
       "  'juliana',\n",
       "  'luna'],\n",
       " 'age': [25, 22, 12, 26, 18, 22, 23, 25, 18, 14],\n",
       " 'GPA': ['A', 'B', 'A', 'C', 'B', 'A', 'A', 'A', 'B', 'B']}"
      ]
     },
     "execution_count": 121,
     "metadata": {},
     "output_type": "execute_result"
    }
   ],
   "source": [
    "Info_tous_les_etudiants_BAC_GL_IA"
   ]
  },
  {
   "cell_type": "code",
   "execution_count": 122,
   "id": "63496aaf-f94b-48d3-81ff-6bd6a05eafbe",
   "metadata": {},
   "outputs": [
    {
     "name": "stdout",
     "output_type": "stream",
     "text": [
      "{'matricule': ['20220908123', '202212654', '2022876123', '2022987111', '2022020111', '2022021536', '2022202548', '202445884', '20022225', '220225545'], 'nom': ['SAMPATWA', 'KATUMBA', 'KIMENYEMBO', 'KALOMBO', 'KALOBO', 'MUJINGA', 'KALENGA', 'MWENDA', 'HANGI', 'KASONGO'], 'prenom': ['Diev', 'Manasse', 'ketsia', 'Charly', 'Justin', 'patrick', 'lina', 'mazal', 'juliana', 'luna'], 'age': [25, 22, 12, 26, 18, 22, 23, 25, 18, 14], 'GPA': ['A', 'B', 'A', 'C', 'B', 'A', 'A', 'A', 'B', 'B']}\n"
     ]
    }
   ],
   "source": [
    "print(Info_tous_les_etudiants_BAC_GL_IA)"
   ]
  },
  {
   "cell_type": "code",
   "execution_count": 123,
   "id": "fe7aaddd-12b0-4405-aa5b-6ad32dbfd221",
   "metadata": {},
   "outputs": [],
   "source": [
    "# Importer pandas\n",
    "import pandas as pd"
   ]
  },
  {
   "cell_type": "code",
   "execution_count": 124,
   "id": "0debf371-3314-4f53-bc5c-0e360037735f",
   "metadata": {},
   "outputs": [
    {
     "data": {
      "text/html": [
       "<div>\n",
       "<style scoped>\n",
       "    .dataframe tbody tr th:only-of-type {\n",
       "        vertical-align: middle;\n",
       "    }\n",
       "\n",
       "    .dataframe tbody tr th {\n",
       "        vertical-align: top;\n",
       "    }\n",
       "\n",
       "    .dataframe thead th {\n",
       "        text-align: right;\n",
       "    }\n",
       "</style>\n",
       "<table border=\"1\" class=\"dataframe\">\n",
       "  <thead>\n",
       "    <tr style=\"text-align: right;\">\n",
       "      <th></th>\n",
       "      <th>matricule</th>\n",
       "      <th>nom</th>\n",
       "      <th>prenom</th>\n",
       "      <th>age</th>\n",
       "      <th>GPA</th>\n",
       "    </tr>\n",
       "  </thead>\n",
       "  <tbody>\n",
       "    <tr>\n",
       "      <th>0</th>\n",
       "      <td>20220908123</td>\n",
       "      <td>SAMPATWA</td>\n",
       "      <td>Diev</td>\n",
       "      <td>25</td>\n",
       "      <td>A</td>\n",
       "    </tr>\n",
       "    <tr>\n",
       "      <th>1</th>\n",
       "      <td>202212654</td>\n",
       "      <td>KATUMBA</td>\n",
       "      <td>Manasse</td>\n",
       "      <td>22</td>\n",
       "      <td>B</td>\n",
       "    </tr>\n",
       "    <tr>\n",
       "      <th>2</th>\n",
       "      <td>2022876123</td>\n",
       "      <td>KIMENYEMBO</td>\n",
       "      <td>ketsia</td>\n",
       "      <td>12</td>\n",
       "      <td>A</td>\n",
       "    </tr>\n",
       "    <tr>\n",
       "      <th>3</th>\n",
       "      <td>2022987111</td>\n",
       "      <td>KALOMBO</td>\n",
       "      <td>Charly</td>\n",
       "      <td>26</td>\n",
       "      <td>C</td>\n",
       "    </tr>\n",
       "    <tr>\n",
       "      <th>4</th>\n",
       "      <td>2022020111</td>\n",
       "      <td>KALOBO</td>\n",
       "      <td>Justin</td>\n",
       "      <td>18</td>\n",
       "      <td>B</td>\n",
       "    </tr>\n",
       "    <tr>\n",
       "      <th>5</th>\n",
       "      <td>2022021536</td>\n",
       "      <td>MUJINGA</td>\n",
       "      <td>patrick</td>\n",
       "      <td>22</td>\n",
       "      <td>A</td>\n",
       "    </tr>\n",
       "    <tr>\n",
       "      <th>6</th>\n",
       "      <td>2022202548</td>\n",
       "      <td>KALENGA</td>\n",
       "      <td>lina</td>\n",
       "      <td>23</td>\n",
       "      <td>A</td>\n",
       "    </tr>\n",
       "    <tr>\n",
       "      <th>7</th>\n",
       "      <td>202445884</td>\n",
       "      <td>MWENDA</td>\n",
       "      <td>mazal</td>\n",
       "      <td>25</td>\n",
       "      <td>A</td>\n",
       "    </tr>\n",
       "    <tr>\n",
       "      <th>8</th>\n",
       "      <td>20022225</td>\n",
       "      <td>HANGI</td>\n",
       "      <td>juliana</td>\n",
       "      <td>18</td>\n",
       "      <td>B</td>\n",
       "    </tr>\n",
       "    <tr>\n",
       "      <th>9</th>\n",
       "      <td>220225545</td>\n",
       "      <td>KASONGO</td>\n",
       "      <td>luna</td>\n",
       "      <td>14</td>\n",
       "      <td>B</td>\n",
       "    </tr>\n",
       "  </tbody>\n",
       "</table>\n",
       "</div>"
      ],
      "text/plain": [
       "     matricule         nom   prenom  age GPA\n",
       "0  20220908123    SAMPATWA     Diev   25   A\n",
       "1    202212654     KATUMBA  Manasse   22   B\n",
       "2   2022876123  KIMENYEMBO   ketsia   12   A\n",
       "3   2022987111     KALOMBO   Charly   26   C\n",
       "4   2022020111      KALOBO   Justin   18   B\n",
       "5   2022021536     MUJINGA  patrick   22   A\n",
       "6   2022202548     KALENGA     lina   23   A\n",
       "7    202445884      MWENDA    mazal   25   A\n",
       "8     20022225       HANGI  juliana   18   B\n",
       "9    220225545     KASONGO     luna   14   B"
      ]
     },
     "execution_count": 124,
     "metadata": {},
     "output_type": "execute_result"
    }
   ],
   "source": [
    "donnees_etudiants =pd.DataFrame(Info_tous_les_etudiants_BAC_GL_IA)\n",
    "donnees_etudiants"
   ]
  },
  {
   "cell_type": "code",
   "execution_count": 125,
   "id": "c6faf4f4-fc5d-48bb-81f2-7604b49dfaee",
   "metadata": {},
   "outputs": [
    {
     "data": {
      "text/html": [
       "<div>\n",
       "<style scoped>\n",
       "    .dataframe tbody tr th:only-of-type {\n",
       "        vertical-align: middle;\n",
       "    }\n",
       "\n",
       "    .dataframe tbody tr th {\n",
       "        vertical-align: top;\n",
       "    }\n",
       "\n",
       "    .dataframe thead th {\n",
       "        text-align: right;\n",
       "    }\n",
       "</style>\n",
       "<table border=\"1\" class=\"dataframe\">\n",
       "  <thead>\n",
       "    <tr style=\"text-align: right;\">\n",
       "      <th></th>\n",
       "      <th>matricule</th>\n",
       "      <th>nom</th>\n",
       "      <th>prenom</th>\n",
       "      <th>age</th>\n",
       "      <th>GPA</th>\n",
       "    </tr>\n",
       "  </thead>\n",
       "  <tbody>\n",
       "    <tr>\n",
       "      <th>0</th>\n",
       "      <td>20220908123</td>\n",
       "      <td>SAMPATWA</td>\n",
       "      <td>Diev</td>\n",
       "      <td>25</td>\n",
       "      <td>A</td>\n",
       "    </tr>\n",
       "    <tr>\n",
       "      <th>1</th>\n",
       "      <td>202212654</td>\n",
       "      <td>KATUMBA</td>\n",
       "      <td>Manasse</td>\n",
       "      <td>22</td>\n",
       "      <td>B</td>\n",
       "    </tr>\n",
       "    <tr>\n",
       "      <th>2</th>\n",
       "      <td>2022876123</td>\n",
       "      <td>KIMENYEMBO</td>\n",
       "      <td>ketsia</td>\n",
       "      <td>12</td>\n",
       "      <td>A</td>\n",
       "    </tr>\n",
       "    <tr>\n",
       "      <th>3</th>\n",
       "      <td>2022987111</td>\n",
       "      <td>KALOMBO</td>\n",
       "      <td>Charly</td>\n",
       "      <td>26</td>\n",
       "      <td>C</td>\n",
       "    </tr>\n",
       "  </tbody>\n",
       "</table>\n",
       "</div>"
      ],
      "text/plain": [
       "     matricule         nom   prenom  age GPA\n",
       "0  20220908123    SAMPATWA     Diev   25   A\n",
       "1    202212654     KATUMBA  Manasse   22   B\n",
       "2   2022876123  KIMENYEMBO   ketsia   12   A\n",
       "3   2022987111     KALOMBO   Charly   26   C"
      ]
     },
     "execution_count": 125,
     "metadata": {},
     "output_type": "execute_result"
    }
   ],
   "source": [
    "donnees_etudiants.head(4)"
   ]
  },
  {
   "cell_type": "code",
   "execution_count": 126,
   "id": "5d85d8e4-3c2c-41f3-aa54-1a37982230d2",
   "metadata": {},
   "outputs": [
    {
     "data": {
      "text/html": [
       "<div>\n",
       "<style scoped>\n",
       "    .dataframe tbody tr th:only-of-type {\n",
       "        vertical-align: middle;\n",
       "    }\n",
       "\n",
       "    .dataframe tbody tr th {\n",
       "        vertical-align: top;\n",
       "    }\n",
       "\n",
       "    .dataframe thead th {\n",
       "        text-align: right;\n",
       "    }\n",
       "</style>\n",
       "<table border=\"1\" class=\"dataframe\">\n",
       "  <thead>\n",
       "    <tr style=\"text-align: right;\">\n",
       "      <th></th>\n",
       "      <th>matricule</th>\n",
       "      <th>nom</th>\n",
       "      <th>prenom</th>\n",
       "      <th>age</th>\n",
       "      <th>GPA</th>\n",
       "    </tr>\n",
       "  </thead>\n",
       "  <tbody>\n",
       "    <tr>\n",
       "      <th>8</th>\n",
       "      <td>20022225</td>\n",
       "      <td>HANGI</td>\n",
       "      <td>juliana</td>\n",
       "      <td>18</td>\n",
       "      <td>B</td>\n",
       "    </tr>\n",
       "    <tr>\n",
       "      <th>9</th>\n",
       "      <td>220225545</td>\n",
       "      <td>KASONGO</td>\n",
       "      <td>luna</td>\n",
       "      <td>14</td>\n",
       "      <td>B</td>\n",
       "    </tr>\n",
       "  </tbody>\n",
       "</table>\n",
       "</div>"
      ],
      "text/plain": [
       "   matricule      nom   prenom  age GPA\n",
       "8   20022225    HANGI  juliana   18   B\n",
       "9  220225545  KASONGO     luna   14   B"
      ]
     },
     "execution_count": 126,
     "metadata": {},
     "output_type": "execute_result"
    }
   ],
   "source": [
    "donnees_etudiants.tail(2)"
   ]
  },
  {
   "cell_type": "code",
   "execution_count": 127,
   "id": "418ac24a-b209-414f-bdcb-135544ead17c",
   "metadata": {},
   "outputs": [
    {
     "data": {
      "text/plain": [
       "0    20220908123\n",
       "1      202212654\n",
       "2     2022876123\n",
       "3     2022987111\n",
       "4     2022020111\n",
       "5     2022021536\n",
       "6     2022202548\n",
       "7      202445884\n",
       "8       20022225\n",
       "9      220225545\n",
       "Name: matricule, dtype: object"
      ]
     },
     "execution_count": 127,
     "metadata": {},
     "output_type": "execute_result"
    }
   ],
   "source": [
    "donnees_etudiants['matricule']"
   ]
  },
  {
   "cell_type": "code",
   "execution_count": 128,
   "id": "4eb12c23-a052-438f-956d-6a97c0f69b9c",
   "metadata": {},
   "outputs": [
    {
     "data": {
      "text/html": [
       "<div>\n",
       "<style scoped>\n",
       "    .dataframe tbody tr th:only-of-type {\n",
       "        vertical-align: middle;\n",
       "    }\n",
       "\n",
       "    .dataframe tbody tr th {\n",
       "        vertical-align: top;\n",
       "    }\n",
       "\n",
       "    .dataframe thead th {\n",
       "        text-align: right;\n",
       "    }\n",
       "</style>\n",
       "<table border=\"1\" class=\"dataframe\">\n",
       "  <thead>\n",
       "    <tr style=\"text-align: right;\">\n",
       "      <th></th>\n",
       "      <th>matricule</th>\n",
       "      <th>nom</th>\n",
       "    </tr>\n",
       "  </thead>\n",
       "  <tbody>\n",
       "    <tr>\n",
       "      <th>0</th>\n",
       "      <td>20220908123</td>\n",
       "      <td>SAMPATWA</td>\n",
       "    </tr>\n",
       "    <tr>\n",
       "      <th>1</th>\n",
       "      <td>202212654</td>\n",
       "      <td>KATUMBA</td>\n",
       "    </tr>\n",
       "    <tr>\n",
       "      <th>2</th>\n",
       "      <td>2022876123</td>\n",
       "      <td>KIMENYEMBO</td>\n",
       "    </tr>\n",
       "    <tr>\n",
       "      <th>3</th>\n",
       "      <td>2022987111</td>\n",
       "      <td>KALOMBO</td>\n",
       "    </tr>\n",
       "    <tr>\n",
       "      <th>4</th>\n",
       "      <td>2022020111</td>\n",
       "      <td>KALOBO</td>\n",
       "    </tr>\n",
       "    <tr>\n",
       "      <th>5</th>\n",
       "      <td>2022021536</td>\n",
       "      <td>MUJINGA</td>\n",
       "    </tr>\n",
       "    <tr>\n",
       "      <th>6</th>\n",
       "      <td>2022202548</td>\n",
       "      <td>KALENGA</td>\n",
       "    </tr>\n",
       "    <tr>\n",
       "      <th>7</th>\n",
       "      <td>202445884</td>\n",
       "      <td>MWENDA</td>\n",
       "    </tr>\n",
       "    <tr>\n",
       "      <th>8</th>\n",
       "      <td>20022225</td>\n",
       "      <td>HANGI</td>\n",
       "    </tr>\n",
       "    <tr>\n",
       "      <th>9</th>\n",
       "      <td>220225545</td>\n",
       "      <td>KASONGO</td>\n",
       "    </tr>\n",
       "  </tbody>\n",
       "</table>\n",
       "</div>"
      ],
      "text/plain": [
       "     matricule         nom\n",
       "0  20220908123    SAMPATWA\n",
       "1    202212654     KATUMBA\n",
       "2   2022876123  KIMENYEMBO\n",
       "3   2022987111     KALOMBO\n",
       "4   2022020111      KALOBO\n",
       "5   2022021536     MUJINGA\n",
       "6   2022202548     KALENGA\n",
       "7    202445884      MWENDA\n",
       "8     20022225       HANGI\n",
       "9    220225545     KASONGO"
      ]
     },
     "execution_count": 128,
     "metadata": {},
     "output_type": "execute_result"
    }
   ],
   "source": [
    "donnees_etudiants[['matricule','nom']]"
   ]
  },
  {
   "cell_type": "code",
   "execution_count": 129,
   "id": "b5c1d467-0113-4807-a1de-2a2de59556b9",
   "metadata": {},
   "outputs": [
    {
     "data": {
      "text/html": [
       "<div>\n",
       "<style scoped>\n",
       "    .dataframe tbody tr th:only-of-type {\n",
       "        vertical-align: middle;\n",
       "    }\n",
       "\n",
       "    .dataframe tbody tr th {\n",
       "        vertical-align: top;\n",
       "    }\n",
       "\n",
       "    .dataframe thead th {\n",
       "        text-align: right;\n",
       "    }\n",
       "</style>\n",
       "<table border=\"1\" class=\"dataframe\">\n",
       "  <thead>\n",
       "    <tr style=\"text-align: right;\">\n",
       "      <th></th>\n",
       "      <th>matricule</th>\n",
       "      <th>nom</th>\n",
       "      <th>prenom</th>\n",
       "      <th>age</th>\n",
       "      <th>GPA</th>\n",
       "    </tr>\n",
       "  </thead>\n",
       "  <tbody>\n",
       "    <tr>\n",
       "      <th>0</th>\n",
       "      <td>20220908123</td>\n",
       "      <td>SAMPATWA</td>\n",
       "      <td>Diev</td>\n",
       "      <td>25</td>\n",
       "      <td>A</td>\n",
       "    </tr>\n",
       "    <tr>\n",
       "      <th>1</th>\n",
       "      <td>202212654</td>\n",
       "      <td>KATUMBA</td>\n",
       "      <td>Manasse</td>\n",
       "      <td>22</td>\n",
       "      <td>B</td>\n",
       "    </tr>\n",
       "    <tr>\n",
       "      <th>2</th>\n",
       "      <td>2022876123</td>\n",
       "      <td>KIMENYEMBO</td>\n",
       "      <td>ketsia</td>\n",
       "      <td>12</td>\n",
       "      <td>A</td>\n",
       "    </tr>\n",
       "    <tr>\n",
       "      <th>3</th>\n",
       "      <td>2022987111</td>\n",
       "      <td>KALOMBO</td>\n",
       "      <td>Charly</td>\n",
       "      <td>26</td>\n",
       "      <td>C</td>\n",
       "    </tr>\n",
       "    <tr>\n",
       "      <th>4</th>\n",
       "      <td>2022020111</td>\n",
       "      <td>KALOBO</td>\n",
       "      <td>Justin</td>\n",
       "      <td>18</td>\n",
       "      <td>B</td>\n",
       "    </tr>\n",
       "    <tr>\n",
       "      <th>5</th>\n",
       "      <td>2022021536</td>\n",
       "      <td>MUJINGA</td>\n",
       "      <td>patrick</td>\n",
       "      <td>22</td>\n",
       "      <td>A</td>\n",
       "    </tr>\n",
       "    <tr>\n",
       "      <th>6</th>\n",
       "      <td>2022202548</td>\n",
       "      <td>KALENGA</td>\n",
       "      <td>lina</td>\n",
       "      <td>23</td>\n",
       "      <td>A</td>\n",
       "    </tr>\n",
       "    <tr>\n",
       "      <th>7</th>\n",
       "      <td>202445884</td>\n",
       "      <td>MWENDA</td>\n",
       "      <td>mazal</td>\n",
       "      <td>25</td>\n",
       "      <td>A</td>\n",
       "    </tr>\n",
       "    <tr>\n",
       "      <th>8</th>\n",
       "      <td>20022225</td>\n",
       "      <td>HANGI</td>\n",
       "      <td>juliana</td>\n",
       "      <td>18</td>\n",
       "      <td>B</td>\n",
       "    </tr>\n",
       "    <tr>\n",
       "      <th>9</th>\n",
       "      <td>220225545</td>\n",
       "      <td>KASONGO</td>\n",
       "      <td>luna</td>\n",
       "      <td>14</td>\n",
       "      <td>B</td>\n",
       "    </tr>\n",
       "  </tbody>\n",
       "</table>\n",
       "</div>"
      ],
      "text/plain": [
       "     matricule         nom   prenom  age GPA\n",
       "0  20220908123    SAMPATWA     Diev   25   A\n",
       "1    202212654     KATUMBA  Manasse   22   B\n",
       "2   2022876123  KIMENYEMBO   ketsia   12   A\n",
       "3   2022987111     KALOMBO   Charly   26   C\n",
       "4   2022020111      KALOBO   Justin   18   B\n",
       "5   2022021536     MUJINGA  patrick   22   A\n",
       "6   2022202548     KALENGA     lina   23   A\n",
       "7    202445884      MWENDA    mazal   25   A\n",
       "8     20022225       HANGI  juliana   18   B\n",
       "9    220225545     KASONGO     luna   14   B"
      ]
     },
     "execution_count": 129,
     "metadata": {},
     "output_type": "execute_result"
    }
   ],
   "source": [
    "donnees_etudiants.iloc[:,:]"
   ]
  },
  {
   "cell_type": "code",
   "execution_count": 130,
   "id": "5091d560-4883-47be-a0a8-6a3fbc9e76fa",
   "metadata": {},
   "outputs": [
    {
     "data": {
      "text/html": [
       "<div>\n",
       "<style scoped>\n",
       "    .dataframe tbody tr th:only-of-type {\n",
       "        vertical-align: middle;\n",
       "    }\n",
       "\n",
       "    .dataframe tbody tr th {\n",
       "        vertical-align: top;\n",
       "    }\n",
       "\n",
       "    .dataframe thead th {\n",
       "        text-align: right;\n",
       "    }\n",
       "</style>\n",
       "<table border=\"1\" class=\"dataframe\">\n",
       "  <thead>\n",
       "    <tr style=\"text-align: right;\">\n",
       "      <th></th>\n",
       "      <th>matricule</th>\n",
       "      <th>nom</th>\n",
       "      <th>prenom</th>\n",
       "      <th>age</th>\n",
       "      <th>GPA</th>\n",
       "    </tr>\n",
       "  </thead>\n",
       "  <tbody>\n",
       "    <tr>\n",
       "      <th>3</th>\n",
       "      <td>2022987111</td>\n",
       "      <td>KALOMBO</td>\n",
       "      <td>Charly</td>\n",
       "      <td>26</td>\n",
       "      <td>C</td>\n",
       "    </tr>\n",
       "  </tbody>\n",
       "</table>\n",
       "</div>"
      ],
      "text/plain": [
       "    matricule      nom  prenom  age GPA\n",
       "3  2022987111  KALOMBO  Charly   26   C"
      ]
     },
     "execution_count": 130,
     "metadata": {},
     "output_type": "execute_result"
    }
   ],
   "source": [
    "#afficher qeulement les informations de KALOMBO\n",
    "donnees_etudiants.iloc[3:4 , :]\n"
   ]
  },
  {
   "cell_type": "code",
   "execution_count": 131,
   "id": "9f142877-efdd-40eb-bbc3-cd8e5cc5e80e",
   "metadata": {},
   "outputs": [
    {
     "data": {
      "text/html": [
       "<div>\n",
       "<style scoped>\n",
       "    .dataframe tbody tr th:only-of-type {\n",
       "        vertical-align: middle;\n",
       "    }\n",
       "\n",
       "    .dataframe tbody tr th {\n",
       "        vertical-align: top;\n",
       "    }\n",
       "\n",
       "    .dataframe thead th {\n",
       "        text-align: right;\n",
       "    }\n",
       "</style>\n",
       "<table border=\"1\" class=\"dataframe\">\n",
       "  <thead>\n",
       "    <tr style=\"text-align: right;\">\n",
       "      <th></th>\n",
       "      <th>matricule</th>\n",
       "      <th>nom</th>\n",
       "      <th>prenom</th>\n",
       "      <th>age</th>\n",
       "      <th>GPA</th>\n",
       "    </tr>\n",
       "  </thead>\n",
       "  <tbody>\n",
       "    <tr>\n",
       "      <th>2</th>\n",
       "      <td>2022876123</td>\n",
       "      <td>KIMENYEMBO</td>\n",
       "      <td>ketsia</td>\n",
       "      <td>12</td>\n",
       "      <td>A</td>\n",
       "    </tr>\n",
       "  </tbody>\n",
       "</table>\n",
       "</div>"
      ],
      "text/plain": [
       "    matricule         nom  prenom  age GPA\n",
       "2  2022876123  KIMENYEMBO  ketsia   12   A"
      ]
     },
     "execution_count": 131,
     "metadata": {},
     "output_type": "execute_result"
    }
   ],
   "source": [
    "donnees_etudiants.iloc[2:3 , :]"
   ]
  },
  {
   "cell_type": "code",
   "execution_count": 132,
   "id": "782feadc-5433-4b89-a867-2ffb5433adb5",
   "metadata": {},
   "outputs": [
    {
     "data": {
      "text/html": [
       "<div>\n",
       "<style scoped>\n",
       "    .dataframe tbody tr th:only-of-type {\n",
       "        vertical-align: middle;\n",
       "    }\n",
       "\n",
       "    .dataframe tbody tr th {\n",
       "        vertical-align: top;\n",
       "    }\n",
       "\n",
       "    .dataframe thead th {\n",
       "        text-align: right;\n",
       "    }\n",
       "</style>\n",
       "<table border=\"1\" class=\"dataframe\">\n",
       "  <thead>\n",
       "    <tr style=\"text-align: right;\">\n",
       "      <th></th>\n",
       "      <th>matricule</th>\n",
       "      <th>nom</th>\n",
       "      <th>prenom</th>\n",
       "      <th>age</th>\n",
       "      <th>GPA</th>\n",
       "    </tr>\n",
       "  </thead>\n",
       "  <tbody>\n",
       "    <tr>\n",
       "      <th>2</th>\n",
       "      <td>2022876123</td>\n",
       "      <td>KIMENYEMBO</td>\n",
       "      <td>ketsia</td>\n",
       "      <td>12</td>\n",
       "      <td>A</td>\n",
       "    </tr>\n",
       "    <tr>\n",
       "      <th>3</th>\n",
       "      <td>2022987111</td>\n",
       "      <td>KALOMBO</td>\n",
       "      <td>Charly</td>\n",
       "      <td>26</td>\n",
       "      <td>C</td>\n",
       "    </tr>\n",
       "  </tbody>\n",
       "</table>\n",
       "</div>"
      ],
      "text/plain": [
       "    matricule         nom  prenom  age GPA\n",
       "2  2022876123  KIMENYEMBO  ketsia   12   A\n",
       "3  2022987111     KALOMBO  Charly   26   C"
      ]
     },
     "execution_count": 132,
     "metadata": {},
     "output_type": "execute_result"
    }
   ],
   "source": [
    "# afficher les informations de ketsia et charly\n",
    "donnees_etudiants.iloc[2:4 , :]"
   ]
  },
  {
   "cell_type": "code",
   "execution_count": 133,
   "id": "0bc59b0a-62fd-458c-a528-94265363b513",
   "metadata": {},
   "outputs": [
    {
     "data": {
      "text/html": [
       "<div>\n",
       "<style scoped>\n",
       "    .dataframe tbody tr th:only-of-type {\n",
       "        vertical-align: middle;\n",
       "    }\n",
       "\n",
       "    .dataframe tbody tr th {\n",
       "        vertical-align: top;\n",
       "    }\n",
       "\n",
       "    .dataframe thead th {\n",
       "        text-align: right;\n",
       "    }\n",
       "</style>\n",
       "<table border=\"1\" class=\"dataframe\">\n",
       "  <thead>\n",
       "    <tr style=\"text-align: right;\">\n",
       "      <th></th>\n",
       "      <th>nom</th>\n",
       "    </tr>\n",
       "  </thead>\n",
       "  <tbody>\n",
       "    <tr>\n",
       "      <th>1</th>\n",
       "      <td>KATUMBA</td>\n",
       "    </tr>\n",
       "  </tbody>\n",
       "</table>\n",
       "</div>"
      ],
      "text/plain": [
       "       nom\n",
       "1  KATUMBA"
      ]
     },
     "execution_count": 133,
     "metadata": {},
     "output_type": "execute_result"
    }
   ],
   "source": [
    "# afficher seulement le nom KATUMBA\n",
    "donnees_etudiants.iloc[1:2 , 1:2]"
   ]
  },
  {
   "cell_type": "code",
   "execution_count": 134,
   "id": "511812ac-0929-4f40-bdd7-fb78510d22c3",
   "metadata": {},
   "outputs": [
    {
     "data": {
      "text/html": [
       "<div>\n",
       "<style scoped>\n",
       "    .dataframe tbody tr th:only-of-type {\n",
       "        vertical-align: middle;\n",
       "    }\n",
       "\n",
       "    .dataframe tbody tr th {\n",
       "        vertical-align: top;\n",
       "    }\n",
       "\n",
       "    .dataframe thead th {\n",
       "        text-align: right;\n",
       "    }\n",
       "</style>\n",
       "<table border=\"1\" class=\"dataframe\">\n",
       "  <thead>\n",
       "    <tr style=\"text-align: right;\">\n",
       "      <th></th>\n",
       "      <th>age</th>\n",
       "    </tr>\n",
       "  </thead>\n",
       "  <tbody>\n",
       "    <tr>\n",
       "      <th>0</th>\n",
       "      <td>25</td>\n",
       "    </tr>\n",
       "    <tr>\n",
       "      <th>1</th>\n",
       "      <td>22</td>\n",
       "    </tr>\n",
       "    <tr>\n",
       "      <th>2</th>\n",
       "      <td>12</td>\n",
       "    </tr>\n",
       "    <tr>\n",
       "      <th>3</th>\n",
       "      <td>26</td>\n",
       "    </tr>\n",
       "    <tr>\n",
       "      <th>4</th>\n",
       "      <td>18</td>\n",
       "    </tr>\n",
       "    <tr>\n",
       "      <th>5</th>\n",
       "      <td>22</td>\n",
       "    </tr>\n",
       "    <tr>\n",
       "      <th>6</th>\n",
       "      <td>23</td>\n",
       "    </tr>\n",
       "    <tr>\n",
       "      <th>7</th>\n",
       "      <td>25</td>\n",
       "    </tr>\n",
       "    <tr>\n",
       "      <th>8</th>\n",
       "      <td>18</td>\n",
       "    </tr>\n",
       "    <tr>\n",
       "      <th>9</th>\n",
       "      <td>14</td>\n",
       "    </tr>\n",
       "  </tbody>\n",
       "</table>\n",
       "</div>"
      ],
      "text/plain": [
       "   age\n",
       "0   25\n",
       "1   22\n",
       "2   12\n",
       "3   26\n",
       "4   18\n",
       "5   22\n",
       "6   23\n",
       "7   25\n",
       "8   18\n",
       "9   14"
      ]
     },
     "execution_count": 134,
     "metadata": {},
     "output_type": "execute_result"
    }
   ],
   "source": [
    "# afficher la colonne age\n",
    "donnees_etudiants.iloc[: , 3:4]"
   ]
  },
  {
   "cell_type": "code",
   "execution_count": 135,
   "id": "ec3989a1-4fc8-4b30-acae-96f779d3e08c",
   "metadata": {},
   "outputs": [],
   "source": [
    "donnees_etudiants['genre']=['M','M','F','M','M','M','F','M','F','F']\n",
    "donnees_etudiants['pourcentage']=[60,30,25,14,89,56,57,75,84,75]"
   ]
  },
  {
   "cell_type": "code",
   "execution_count": 136,
   "id": "140aad7c-ac95-4aff-99cf-8492aa75d65d",
   "metadata": {},
   "outputs": [
    {
     "data": {
      "text/html": [
       "<div>\n",
       "<style scoped>\n",
       "    .dataframe tbody tr th:only-of-type {\n",
       "        vertical-align: middle;\n",
       "    }\n",
       "\n",
       "    .dataframe tbody tr th {\n",
       "        vertical-align: top;\n",
       "    }\n",
       "\n",
       "    .dataframe thead th {\n",
       "        text-align: right;\n",
       "    }\n",
       "</style>\n",
       "<table border=\"1\" class=\"dataframe\">\n",
       "  <thead>\n",
       "    <tr style=\"text-align: right;\">\n",
       "      <th></th>\n",
       "      <th>matricule</th>\n",
       "      <th>nom</th>\n",
       "      <th>prenom</th>\n",
       "      <th>age</th>\n",
       "      <th>GPA</th>\n",
       "      <th>genre</th>\n",
       "      <th>pourcentage</th>\n",
       "    </tr>\n",
       "  </thead>\n",
       "  <tbody>\n",
       "    <tr>\n",
       "      <th>0</th>\n",
       "      <td>20220908123</td>\n",
       "      <td>SAMPATWA</td>\n",
       "      <td>Diev</td>\n",
       "      <td>25</td>\n",
       "      <td>A</td>\n",
       "      <td>M</td>\n",
       "      <td>60</td>\n",
       "    </tr>\n",
       "    <tr>\n",
       "      <th>1</th>\n",
       "      <td>202212654</td>\n",
       "      <td>KATUMBA</td>\n",
       "      <td>Manasse</td>\n",
       "      <td>22</td>\n",
       "      <td>B</td>\n",
       "      <td>M</td>\n",
       "      <td>30</td>\n",
       "    </tr>\n",
       "    <tr>\n",
       "      <th>2</th>\n",
       "      <td>2022876123</td>\n",
       "      <td>KIMENYEMBO</td>\n",
       "      <td>ketsia</td>\n",
       "      <td>12</td>\n",
       "      <td>A</td>\n",
       "      <td>F</td>\n",
       "      <td>25</td>\n",
       "    </tr>\n",
       "    <tr>\n",
       "      <th>3</th>\n",
       "      <td>2022987111</td>\n",
       "      <td>KALOMBO</td>\n",
       "      <td>Charly</td>\n",
       "      <td>26</td>\n",
       "      <td>C</td>\n",
       "      <td>M</td>\n",
       "      <td>14</td>\n",
       "    </tr>\n",
       "    <tr>\n",
       "      <th>4</th>\n",
       "      <td>2022020111</td>\n",
       "      <td>KALOBO</td>\n",
       "      <td>Justin</td>\n",
       "      <td>18</td>\n",
       "      <td>B</td>\n",
       "      <td>M</td>\n",
       "      <td>89</td>\n",
       "    </tr>\n",
       "    <tr>\n",
       "      <th>5</th>\n",
       "      <td>2022021536</td>\n",
       "      <td>MUJINGA</td>\n",
       "      <td>patrick</td>\n",
       "      <td>22</td>\n",
       "      <td>A</td>\n",
       "      <td>M</td>\n",
       "      <td>56</td>\n",
       "    </tr>\n",
       "    <tr>\n",
       "      <th>6</th>\n",
       "      <td>2022202548</td>\n",
       "      <td>KALENGA</td>\n",
       "      <td>lina</td>\n",
       "      <td>23</td>\n",
       "      <td>A</td>\n",
       "      <td>F</td>\n",
       "      <td>57</td>\n",
       "    </tr>\n",
       "    <tr>\n",
       "      <th>7</th>\n",
       "      <td>202445884</td>\n",
       "      <td>MWENDA</td>\n",
       "      <td>mazal</td>\n",
       "      <td>25</td>\n",
       "      <td>A</td>\n",
       "      <td>M</td>\n",
       "      <td>75</td>\n",
       "    </tr>\n",
       "    <tr>\n",
       "      <th>8</th>\n",
       "      <td>20022225</td>\n",
       "      <td>HANGI</td>\n",
       "      <td>juliana</td>\n",
       "      <td>18</td>\n",
       "      <td>B</td>\n",
       "      <td>F</td>\n",
       "      <td>84</td>\n",
       "    </tr>\n",
       "    <tr>\n",
       "      <th>9</th>\n",
       "      <td>220225545</td>\n",
       "      <td>KASONGO</td>\n",
       "      <td>luna</td>\n",
       "      <td>14</td>\n",
       "      <td>B</td>\n",
       "      <td>F</td>\n",
       "      <td>75</td>\n",
       "    </tr>\n",
       "  </tbody>\n",
       "</table>\n",
       "</div>"
      ],
      "text/plain": [
       "     matricule         nom   prenom  age GPA genre  pourcentage\n",
       "0  20220908123    SAMPATWA     Diev   25   A     M           60\n",
       "1    202212654     KATUMBA  Manasse   22   B     M           30\n",
       "2   2022876123  KIMENYEMBO   ketsia   12   A     F           25\n",
       "3   2022987111     KALOMBO   Charly   26   C     M           14\n",
       "4   2022020111      KALOBO   Justin   18   B     M           89\n",
       "5   2022021536     MUJINGA  patrick   22   A     M           56\n",
       "6   2022202548     KALENGA     lina   23   A     F           57\n",
       "7    202445884      MWENDA    mazal   25   A     M           75\n",
       "8     20022225       HANGI  juliana   18   B     F           84\n",
       "9    220225545     KASONGO     luna   14   B     F           75"
      ]
     },
     "execution_count": 136,
     "metadata": {},
     "output_type": "execute_result"
    }
   ],
   "source": [
    "donnees_etudiants"
   ]
  },
  {
   "cell_type": "code",
   "execution_count": 137,
   "id": "ed5a9dee-f62a-4cc6-b616-b5b3c57603a7",
   "metadata": {},
   "outputs": [],
   "source": [
    "#supprimer la colonne GPA\n",
    "donnees_etudiants.drop(columns='GPA', inplace=True, axis=1)"
   ]
  },
  {
   "cell_type": "code",
   "execution_count": 138,
   "id": "3071edb6-cb83-412c-8bb8-b27c40ac66cb",
   "metadata": {},
   "outputs": [
    {
     "data": {
      "text/html": [
       "<div>\n",
       "<style scoped>\n",
       "    .dataframe tbody tr th:only-of-type {\n",
       "        vertical-align: middle;\n",
       "    }\n",
       "\n",
       "    .dataframe tbody tr th {\n",
       "        vertical-align: top;\n",
       "    }\n",
       "\n",
       "    .dataframe thead th {\n",
       "        text-align: right;\n",
       "    }\n",
       "</style>\n",
       "<table border=\"1\" class=\"dataframe\">\n",
       "  <thead>\n",
       "    <tr style=\"text-align: right;\">\n",
       "      <th></th>\n",
       "      <th>matricule</th>\n",
       "      <th>nom</th>\n",
       "      <th>prenom</th>\n",
       "      <th>age</th>\n",
       "      <th>genre</th>\n",
       "      <th>pourcentage</th>\n",
       "    </tr>\n",
       "  </thead>\n",
       "  <tbody>\n",
       "    <tr>\n",
       "      <th>0</th>\n",
       "      <td>20220908123</td>\n",
       "      <td>SAMPATWA</td>\n",
       "      <td>Diev</td>\n",
       "      <td>25</td>\n",
       "      <td>M</td>\n",
       "      <td>60</td>\n",
       "    </tr>\n",
       "    <tr>\n",
       "      <th>1</th>\n",
       "      <td>202212654</td>\n",
       "      <td>KATUMBA</td>\n",
       "      <td>Manasse</td>\n",
       "      <td>22</td>\n",
       "      <td>M</td>\n",
       "      <td>30</td>\n",
       "    </tr>\n",
       "    <tr>\n",
       "      <th>2</th>\n",
       "      <td>2022876123</td>\n",
       "      <td>KIMENYEMBO</td>\n",
       "      <td>ketsia</td>\n",
       "      <td>12</td>\n",
       "      <td>F</td>\n",
       "      <td>25</td>\n",
       "    </tr>\n",
       "    <tr>\n",
       "      <th>3</th>\n",
       "      <td>2022987111</td>\n",
       "      <td>KALOMBO</td>\n",
       "      <td>Charly</td>\n",
       "      <td>26</td>\n",
       "      <td>M</td>\n",
       "      <td>14</td>\n",
       "    </tr>\n",
       "    <tr>\n",
       "      <th>4</th>\n",
       "      <td>2022020111</td>\n",
       "      <td>KALOBO</td>\n",
       "      <td>Justin</td>\n",
       "      <td>18</td>\n",
       "      <td>M</td>\n",
       "      <td>89</td>\n",
       "    </tr>\n",
       "    <tr>\n",
       "      <th>5</th>\n",
       "      <td>2022021536</td>\n",
       "      <td>MUJINGA</td>\n",
       "      <td>patrick</td>\n",
       "      <td>22</td>\n",
       "      <td>M</td>\n",
       "      <td>56</td>\n",
       "    </tr>\n",
       "    <tr>\n",
       "      <th>6</th>\n",
       "      <td>2022202548</td>\n",
       "      <td>KALENGA</td>\n",
       "      <td>lina</td>\n",
       "      <td>23</td>\n",
       "      <td>F</td>\n",
       "      <td>57</td>\n",
       "    </tr>\n",
       "    <tr>\n",
       "      <th>7</th>\n",
       "      <td>202445884</td>\n",
       "      <td>MWENDA</td>\n",
       "      <td>mazal</td>\n",
       "      <td>25</td>\n",
       "      <td>M</td>\n",
       "      <td>75</td>\n",
       "    </tr>\n",
       "    <tr>\n",
       "      <th>8</th>\n",
       "      <td>20022225</td>\n",
       "      <td>HANGI</td>\n",
       "      <td>juliana</td>\n",
       "      <td>18</td>\n",
       "      <td>F</td>\n",
       "      <td>84</td>\n",
       "    </tr>\n",
       "    <tr>\n",
       "      <th>9</th>\n",
       "      <td>220225545</td>\n",
       "      <td>KASONGO</td>\n",
       "      <td>luna</td>\n",
       "      <td>14</td>\n",
       "      <td>F</td>\n",
       "      <td>75</td>\n",
       "    </tr>\n",
       "  </tbody>\n",
       "</table>\n",
       "</div>"
      ],
      "text/plain": [
       "     matricule         nom   prenom  age genre  pourcentage\n",
       "0  20220908123    SAMPATWA     Diev   25     M           60\n",
       "1    202212654     KATUMBA  Manasse   22     M           30\n",
       "2   2022876123  KIMENYEMBO   ketsia   12     F           25\n",
       "3   2022987111     KALOMBO   Charly   26     M           14\n",
       "4   2022020111      KALOBO   Justin   18     M           89\n",
       "5   2022021536     MUJINGA  patrick   22     M           56\n",
       "6   2022202548     KALENGA     lina   23     F           57\n",
       "7    202445884      MWENDA    mazal   25     M           75\n",
       "8     20022225       HANGI  juliana   18     F           84\n",
       "9    220225545     KASONGO     luna   14     F           75"
      ]
     },
     "execution_count": 138,
     "metadata": {},
     "output_type": "execute_result"
    }
   ],
   "source": [
    "donnees_etudiants"
   ]
  },
  {
   "cell_type": "code",
   "execution_count": 139,
   "id": "229793cd-d1ae-4ba8-8292-e1637d505e06",
   "metadata": {},
   "outputs": [
    {
     "data": {
      "text/html": [
       "<div>\n",
       "<style scoped>\n",
       "    .dataframe tbody tr th:only-of-type {\n",
       "        vertical-align: middle;\n",
       "    }\n",
       "\n",
       "    .dataframe tbody tr th {\n",
       "        vertical-align: top;\n",
       "    }\n",
       "\n",
       "    .dataframe thead th {\n",
       "        text-align: right;\n",
       "    }\n",
       "</style>\n",
       "<table border=\"1\" class=\"dataframe\">\n",
       "  <thead>\n",
       "    <tr style=\"text-align: right;\">\n",
       "      <th></th>\n",
       "      <th>matricule</th>\n",
       "      <th>nom</th>\n",
       "      <th>prenom</th>\n",
       "      <th>age</th>\n",
       "      <th>genre</th>\n",
       "      <th>pourcentage</th>\n",
       "    </tr>\n",
       "  </thead>\n",
       "  <tbody>\n",
       "    <tr>\n",
       "      <th>0</th>\n",
       "      <td>20220908123</td>\n",
       "      <td>SAMPATWA</td>\n",
       "      <td>Diev</td>\n",
       "      <td>25</td>\n",
       "      <td>1</td>\n",
       "      <td>60</td>\n",
       "    </tr>\n",
       "    <tr>\n",
       "      <th>1</th>\n",
       "      <td>202212654</td>\n",
       "      <td>KATUMBA</td>\n",
       "      <td>Manasse</td>\n",
       "      <td>22</td>\n",
       "      <td>1</td>\n",
       "      <td>30</td>\n",
       "    </tr>\n",
       "    <tr>\n",
       "      <th>2</th>\n",
       "      <td>2022876123</td>\n",
       "      <td>KIMENYEMBO</td>\n",
       "      <td>ketsia</td>\n",
       "      <td>12</td>\n",
       "      <td>0</td>\n",
       "      <td>25</td>\n",
       "    </tr>\n",
       "    <tr>\n",
       "      <th>3</th>\n",
       "      <td>2022987111</td>\n",
       "      <td>KALOMBO</td>\n",
       "      <td>Charly</td>\n",
       "      <td>26</td>\n",
       "      <td>1</td>\n",
       "      <td>14</td>\n",
       "    </tr>\n",
       "    <tr>\n",
       "      <th>4</th>\n",
       "      <td>2022020111</td>\n",
       "      <td>KALOBO</td>\n",
       "      <td>Justin</td>\n",
       "      <td>18</td>\n",
       "      <td>1</td>\n",
       "      <td>89</td>\n",
       "    </tr>\n",
       "    <tr>\n",
       "      <th>5</th>\n",
       "      <td>2022021536</td>\n",
       "      <td>MUJINGA</td>\n",
       "      <td>patrick</td>\n",
       "      <td>22</td>\n",
       "      <td>1</td>\n",
       "      <td>56</td>\n",
       "    </tr>\n",
       "    <tr>\n",
       "      <th>6</th>\n",
       "      <td>2022202548</td>\n",
       "      <td>KALENGA</td>\n",
       "      <td>lina</td>\n",
       "      <td>23</td>\n",
       "      <td>0</td>\n",
       "      <td>57</td>\n",
       "    </tr>\n",
       "    <tr>\n",
       "      <th>7</th>\n",
       "      <td>202445884</td>\n",
       "      <td>MWENDA</td>\n",
       "      <td>mazal</td>\n",
       "      <td>25</td>\n",
       "      <td>1</td>\n",
       "      <td>75</td>\n",
       "    </tr>\n",
       "    <tr>\n",
       "      <th>8</th>\n",
       "      <td>20022225</td>\n",
       "      <td>HANGI</td>\n",
       "      <td>juliana</td>\n",
       "      <td>18</td>\n",
       "      <td>0</td>\n",
       "      <td>84</td>\n",
       "    </tr>\n",
       "    <tr>\n",
       "      <th>9</th>\n",
       "      <td>220225545</td>\n",
       "      <td>KASONGO</td>\n",
       "      <td>luna</td>\n",
       "      <td>14</td>\n",
       "      <td>0</td>\n",
       "      <td>75</td>\n",
       "    </tr>\n",
       "  </tbody>\n",
       "</table>\n",
       "</div>"
      ],
      "text/plain": [
       "     matricule         nom   prenom  age  genre  pourcentage\n",
       "0  20220908123    SAMPATWA     Diev   25      1           60\n",
       "1    202212654     KATUMBA  Manasse   22      1           30\n",
       "2   2022876123  KIMENYEMBO   ketsia   12      0           25\n",
       "3   2022987111     KALOMBO   Charly   26      1           14\n",
       "4   2022020111      KALOBO   Justin   18      1           89\n",
       "5   2022021536     MUJINGA  patrick   22      1           56\n",
       "6   2022202548     KALENGA     lina   23      0           57\n",
       "7    202445884      MWENDA    mazal   25      1           75\n",
       "8     20022225       HANGI  juliana   18      0           84\n",
       "9    220225545     KASONGO     luna   14      0           75"
      ]
     },
     "execution_count": 139,
     "metadata": {},
     "output_type": "execute_result"
    }
   ],
   "source": [
    "# convertir la colonne genre en m=1 et f=0\n",
    "# mapping de la colonne gnere\n",
    "# premiere methode\n",
    "#Mapping_genre ={\n",
    "    #'M':1,\n",
    "    #'F':0\n",
    "#}\n",
    "#donnees_etudiants['genre']=donnees_etudiants['genre'].map(Mapping_genre)\n",
    "#donnees_etudiants\n",
    "#deuxieme methode\n",
    "donnees_etudiants['genre']=np.where(donnees_etudiants['genre']== 'M',1,0)\n",
    "donnees_etudiants"
   ]
  },
  {
   "cell_type": "markdown",
   "id": "0503270f-82de-402b-a9f9-77d44f7d1c69",
   "metadata": {},
   "source": [
    "# D. VISUALISATION DES DONNEES"
   ]
  },
  {
   "cell_type": "code",
   "execution_count": 140,
   "id": "25c1322e-3dda-44a2-be50-ba8048775482",
   "metadata": {},
   "outputs": [
    {
     "data": {
      "text/plain": [
       "array([0.        , 0.04081633, 0.08163265, 0.12244898, 0.16326531,\n",
       "       0.20408163, 0.24489796, 0.28571429, 0.32653061, 0.36734694,\n",
       "       0.40816327, 0.44897959, 0.48979592, 0.53061224, 0.57142857,\n",
       "       0.6122449 , 0.65306122, 0.69387755, 0.73469388, 0.7755102 ,\n",
       "       0.81632653, 0.85714286, 0.89795918, 0.93877551, 0.97959184,\n",
       "       1.02040816, 1.06122449, 1.10204082, 1.14285714, 1.18367347,\n",
       "       1.2244898 , 1.26530612, 1.30612245, 1.34693878, 1.3877551 ,\n",
       "       1.42857143, 1.46938776, 1.51020408, 1.55102041, 1.59183673,\n",
       "       1.63265306, 1.67346939, 1.71428571, 1.75510204, 1.79591837,\n",
       "       1.83673469, 1.87755102, 1.91836735, 1.95918367, 2.        ])"
      ]
     },
     "execution_count": 140,
     "metadata": {},
     "output_type": "execute_result"
    }
   ],
   "source": [
    "# creation de donnees\n",
    "X= np.linspace(0,2,50)\n",
    "X"
   ]
  },
  {
   "cell_type": "code",
   "execution_count": 141,
   "id": "4e33301e-f4bf-4f49-88c4-981462a9f5a0",
   "metadata": {},
   "outputs": [
    {
     "data": {
      "text/plain": [
       "<matplotlib.legend.Legend at 0x1bc1e6d2ef0>"
      ]
     },
     "execution_count": 141,
     "metadata": {},
     "output_type": "execute_result"
    },
    {
     "data": {
      "image/png": "[encoded data removed]",
      "text/plain": [
       "<Figure size 600x400 with 1 Axes>"
      ]
     },
     "metadata": {},
     "output_type": "display_data"
    }
   ],
   "source": [
    "# Importer MATPLOTLIB\n",
    "import matplotlib.pyplot as plt\n",
    "fig, ax= plt.subplots(figsize=(6,4))\n",
    "ax.plot(X,X*2,label='double')\n",
    "ax.plot(X,X**2,label='caree de x')\n",
    "ax.set_xlabel('donnees de x')\n",
    "ax.set_ylabel('donnees de y')\n",
    "plt.title('donnees de linspace entre 0et 2')\n",
    "ax.legend()\n",
    " \n",
    "                      "
   ]
  },
  {
   "cell_type": "code",
   "execution_count": 142,
   "id": "26ce6ba6-9f12-46d4-9440-f6daca8300f5",
   "metadata": {},
   "outputs": [],
   "source": [
    "# importer seaborn\n",
    "import seaborn as sns"
   ]
  },
  {
   "cell_type": "code",
   "execution_count": 143,
   "id": "a466ca2b-3c7b-47cf-95f6-278b0e31fd99",
   "metadata": {},
   "outputs": [
    {
     "data": {
      "text/html": [
       "<div>\n",
       "<style scoped>\n",
       "    .dataframe tbody tr th:only-of-type {\n",
       "        vertical-align: middle;\n",
       "    }\n",
       "\n",
       "    .dataframe tbody tr th {\n",
       "        vertical-align: top;\n",
       "    }\n",
       "\n",
       "    .dataframe thead th {\n",
       "        text-align: right;\n",
       "    }\n",
       "</style>\n",
       "<table border=\"1\" class=\"dataframe\">\n",
       "  <thead>\n",
       "    <tr style=\"text-align: right;\">\n",
       "      <th></th>\n",
       "      <th>sepal_length</th>\n",
       "      <th>sepal_width</th>\n",
       "      <th>petal_length</th>\n",
       "      <th>petal_width</th>\n",
       "      <th>species</th>\n",
       "    </tr>\n",
       "  </thead>\n",
       "  <tbody>\n",
       "    <tr>\n",
       "      <th>0</th>\n",
       "      <td>5.1</td>\n",
       "      <td>3.5</td>\n",
       "      <td>1.4</td>\n",
       "      <td>0.2</td>\n",
       "      <td>setosa</td>\n",
       "    </tr>\n",
       "    <tr>\n",
       "      <th>1</th>\n",
       "      <td>4.9</td>\n",
       "      <td>3.0</td>\n",
       "      <td>1.4</td>\n",
       "      <td>0.2</td>\n",
       "      <td>setosa</td>\n",
       "    </tr>\n",
       "    <tr>\n",
       "      <th>2</th>\n",
       "      <td>4.7</td>\n",
       "      <td>3.2</td>\n",
       "      <td>1.3</td>\n",
       "      <td>0.2</td>\n",
       "      <td>setosa</td>\n",
       "    </tr>\n",
       "    <tr>\n",
       "      <th>3</th>\n",
       "      <td>4.6</td>\n",
       "      <td>3.1</td>\n",
       "      <td>1.5</td>\n",
       "      <td>0.2</td>\n",
       "      <td>setosa</td>\n",
       "    </tr>\n",
       "    <tr>\n",
       "      <th>4</th>\n",
       "      <td>5.0</td>\n",
       "      <td>3.6</td>\n",
       "      <td>1.4</td>\n",
       "      <td>0.2</td>\n",
       "      <td>setosa</td>\n",
       "    </tr>\n",
       "  </tbody>\n",
       "</table>\n",
       "</div>"
      ],
      "text/plain": [
       "   sepal_length  sepal_width  petal_length  petal_width species\n",
       "0           5.1          3.5           1.4          0.2  setosa\n",
       "1           4.9          3.0           1.4          0.2  setosa\n",
       "2           4.7          3.2           1.3          0.2  setosa\n",
       "3           4.6          3.1           1.5          0.2  setosa\n",
       "4           5.0          3.6           1.4          0.2  setosa"
      ]
     },
     "execution_count": 143,
     "metadata": {},
     "output_type": "execute_result"
    }
   ],
   "source": [
    "iris_data= sns.load_dataset('iris')\n",
    "\n",
    "iris_data.head()"
   ]
  },
  {
   "cell_type": "code",
   "execution_count": 144,
   "id": "2708ad8c-1c39-40a3-a852-40ef12fa8e81",
   "metadata": {},
   "outputs": [
    {
     "data": {
      "text/plain": [
       "array(['setosa', 'versicolor', 'virginica'], dtype=object)"
      ]
     },
     "execution_count": 144,
     "metadata": {},
     "output_type": "execute_result"
    }
   ],
   "source": [
    "iris_data.shape\n",
    "(150,5)\n",
    "iris_data['species'].unique()\n"
   ]
  },
  {
   "cell_type": "code",
   "execution_count": 145,
   "id": "2dbaebff-8b5a-43e1-88c3-e1e0fd91b273",
   "metadata": {},
   "outputs": [
    {
     "data": {
      "text/plain": [
       "<Axes: xlabel='sepal_length', ylabel='sepal_width'>"
      ]
     },
     "execution_count": 145,
     "metadata": {},
     "output_type": "execute_result"
    },
    {
     "data": {
      "image/png": "[encoded data removed]",
      "text/plain": [
       "<Figure size 640x480 with 1 Axes>"
      ]
     },
     "metadata": {},
     "output_type": "display_data"
    }
   ],
   "source": [
    "sns.scatterplot(x='sepal_length',y='sepal_width', data=iris_data, hue='species')"
   ]
  },
  {
   "cell_type": "code",
   "execution_count": 152,
   "id": "cc6e310b-431c-4430-8afb-7b661668fd81",
   "metadata": {},
   "outputs": [],
   "source": [
    "#mapping de la colonne gnere\n",
    "Mapping_species ={\n",
    "  'setosa':0,\n",
    "    'versicolor':1,\n",
    "    'virginica':2,\n",
    "\n",
    "}\n",
    "iris_data['species']=iris_data['species'].map(Mapping_species)"
   ]
  },
  {
   "cell_type": "code",
   "execution_count": 153,
   "id": "1eaef3ae-f8ed-4b2f-865c-0c67e6dbfb06",
   "metadata": {},
   "outputs": [
    {
     "data": {
      "text/plain": [
       "array([0, 1, 2])"
      ]
     },
     "execution_count": 153,
     "metadata": {},
     "output_type": "execute_result"
    }
   ],
   "source": [
    "iris_data['species'].unique()"
   ]
  },
  {
   "cell_type": "code",
   "execution_count": 154,
   "id": "6b6da86a-4580-4697-8b76-1542b5599e06",
   "metadata": {},
   "outputs": [
    {
     "data": {
      "text/plain": [
       "array([0, 1, 2])"
      ]
     },
     "execution_count": 154,
     "metadata": {},
     "output_type": "execute_result"
    }
   ],
   "source": [
    "iris_data['species'].unique()"
   ]
  },
  {
   "cell_type": "code",
   "execution_count": 150,
   "id": "c0376ebb-1668-4691-aee0-83c36a59dbf3",
   "metadata": {},
   "outputs": [
    {
     "data": {
      "text/html": [
       "<div>\n",
       "<style scoped>\n",
       "    .dataframe tbody tr th:only-of-type {\n",
       "        vertical-align: middle;\n",
       "    }\n",
       "\n",
       "    .dataframe tbody tr th {\n",
       "        vertical-align: top;\n",
       "    }\n",
       "\n",
       "    .dataframe thead th {\n",
       "        text-align: right;\n",
       "    }\n",
       "</style>\n",
       "<table border=\"1\" class=\"dataframe\">\n",
       "  <thead>\n",
       "    <tr style=\"text-align: right;\">\n",
       "      <th></th>\n",
       "      <th>sepal_length</th>\n",
       "      <th>sepal_width</th>\n",
       "      <th>petal_length</th>\n",
       "      <th>petal_width</th>\n",
       "      <th>species</th>\n",
       "      <th>setosa</th>\n",
       "    </tr>\n",
       "  </thead>\n",
       "  <tbody>\n",
       "    <tr>\n",
       "      <th>0</th>\n",
       "      <td>5.1</td>\n",
       "      <td>3.5</td>\n",
       "      <td>1.4</td>\n",
       "      <td>0.2</td>\n",
       "      <td>setosa</td>\n",
       "      <td>0</td>\n",
       "    </tr>\n",
       "    <tr>\n",
       "      <th>1</th>\n",
       "      <td>4.9</td>\n",
       "      <td>3.0</td>\n",
       "      <td>1.4</td>\n",
       "      <td>0.2</td>\n",
       "      <td>setosa</td>\n",
       "      <td>0</td>\n",
       "    </tr>\n",
       "    <tr>\n",
       "      <th>2</th>\n",
       "      <td>4.7</td>\n",
       "      <td>3.2</td>\n",
       "      <td>1.3</td>\n",
       "      <td>0.2</td>\n",
       "      <td>setosa</td>\n",
       "      <td>0</td>\n",
       "    </tr>\n",
       "    <tr>\n",
       "      <th>3</th>\n",
       "      <td>4.6</td>\n",
       "      <td>3.1</td>\n",
       "      <td>1.5</td>\n",
       "      <td>0.2</td>\n",
       "      <td>setosa</td>\n",
       "      <td>0</td>\n",
       "    </tr>\n",
       "    <tr>\n",
       "      <th>4</th>\n",
       "      <td>5.0</td>\n",
       "      <td>3.6</td>\n",
       "      <td>1.4</td>\n",
       "      <td>0.2</td>\n",
       "      <td>setosa</td>\n",
       "      <td>0</td>\n",
       "    </tr>\n",
       "  </tbody>\n",
       "</table>\n",
       "</div>"
      ],
      "text/plain": [
       "   sepal_length  sepal_width  petal_length  petal_width species  setosa\n",
       "0           5.1          3.5           1.4          0.2  setosa       0\n",
       "1           4.9          3.0           1.4          0.2  setosa       0\n",
       "2           4.7          3.2           1.3          0.2  setosa       0\n",
       "3           4.6          3.1           1.5          0.2  setosa       0\n",
       "4           5.0          3.6           1.4          0.2  setosa       0"
      ]
     },
     "execution_count": 150,
     "metadata": {},
     "output_type": "execute_result"
    }
   ],
   "source": [
    "iris_data.head()"
   ]
  },
  {
   "cell_type": "code",
   "execution_count": 155,
   "id": "5274ea6d-6fc8-4cd9-9186-4eb220b2b20e",
   "metadata": {},
   "outputs": [
    {
     "data": {
      "text/plain": [
       "array([0, 1, 2])"
      ]
     },
     "execution_count": 155,
     "metadata": {},
     "output_type": "execute_result"
    }
   ],
   "source": [
    "iris_data['species'].unique()"
   ]
  },
  {
   "cell_type": "code",
   "execution_count": null,
   "id": "34bea8b4-c06a-4056-aff6-3d95d4a3878d",
   "metadata": {},
   "outputs": [],
   "source": []
  }
 ],
 "metadata": {
  "kernelspec": {
   "display_name": "Python 3 (ipykernel)",
   "language": "python",
   "name": "python3"
  },
  "language_info": {
   "codemirror_mode": {
    "name": "ipython",
    "version": 3
   },
   "file_extension": ".py",
   "mimetype": "text/x-python",
   "name": "python",
   "nbconvert_exporter": "python",
   "pygments_lexer": "ipython3",
   "version": "3.10.16"
  }
 },
 "nbformat": 4,
 "nbformat_minor": 5
}
